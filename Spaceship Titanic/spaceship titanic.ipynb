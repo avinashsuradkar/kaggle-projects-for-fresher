{
 "cells": [
  {
   "cell_type": "code",
   "execution_count": 1,
   "id": "e675ce51",
   "metadata": {},
   "outputs": [
    {
     "name": "stdout",
     "output_type": "stream",
     "text": [
      "Requirement already satisfied: xgboost in c:\\users\\avinash\\anaconda3\\lib\\site-packages (2.1.2)\n",
      "Requirement already satisfied: numpy in c:\\users\\avinash\\anaconda3\\lib\\site-packages (from xgboost) (1.26.4)\n",
      "Requirement already satisfied: scipy in c:\\users\\avinash\\anaconda3\\lib\\site-packages (from xgboost) (1.11.4)\n",
      "Requirement already satisfied: catboost in c:\\users\\avinash\\anaconda3\\lib\\site-packages (1.2.7)\n",
      "Requirement already satisfied: graphviz in c:\\users\\avinash\\anaconda3\\lib\\site-packages (from catboost) (0.20.3)\n",
      "Requirement already satisfied: matplotlib in c:\\users\\avinash\\anaconda3\\lib\\site-packages (from catboost) (3.8.0)\n",
      "Requirement already satisfied: numpy<2.0,>=1.16.0 in c:\\users\\avinash\\anaconda3\\lib\\site-packages (from catboost) (1.26.4)\n",
      "Requirement already satisfied: pandas>=0.24 in c:\\users\\avinash\\anaconda3\\lib\\site-packages (from catboost) (2.1.4)\n",
      "Requirement already satisfied: scipy in c:\\users\\avinash\\anaconda3\\lib\\site-packages (from catboost) (1.11.4)\n",
      "Requirement already satisfied: plotly in c:\\users\\avinash\\anaconda3\\lib\\site-packages (from catboost) (5.9.0)\n",
      "Requirement already satisfied: six in c:\\users\\avinash\\anaconda3\\lib\\site-packages (from catboost) (1.16.0)\n",
      "Requirement already satisfied: python-dateutil>=2.8.2 in c:\\users\\avinash\\anaconda3\\lib\\site-packages (from pandas>=0.24->catboost) (2.8.2)\n",
      "Requirement already satisfied: pytz>=2020.1 in c:\\users\\avinash\\anaconda3\\lib\\site-packages (from pandas>=0.24->catboost) (2023.3.post1)\n",
      "Requirement already satisfied: tzdata>=2022.1 in c:\\users\\avinash\\anaconda3\\lib\\site-packages (from pandas>=0.24->catboost) (2023.3)\n",
      "Requirement already satisfied: contourpy>=1.0.1 in c:\\users\\avinash\\anaconda3\\lib\\site-packages (from matplotlib->catboost) (1.2.0)\n",
      "Requirement already satisfied: cycler>=0.10 in c:\\users\\avinash\\anaconda3\\lib\\site-packages (from matplotlib->catboost) (0.11.0)\n",
      "Requirement already satisfied: fonttools>=4.22.0 in c:\\users\\avinash\\anaconda3\\lib\\site-packages (from matplotlib->catboost) (4.25.0)\n",
      "Requirement already satisfied: kiwisolver>=1.0.1 in c:\\users\\avinash\\anaconda3\\lib\\site-packages (from matplotlib->catboost) (1.4.4)\n",
      "Requirement already satisfied: packaging>=20.0 in c:\\users\\avinash\\anaconda3\\lib\\site-packages (from matplotlib->catboost) (23.1)\n",
      "Requirement already satisfied: pillow>=6.2.0 in c:\\users\\avinash\\anaconda3\\lib\\site-packages (from matplotlib->catboost) (10.2.0)\n",
      "Requirement already satisfied: pyparsing>=2.3.1 in c:\\users\\avinash\\anaconda3\\lib\\site-packages (from matplotlib->catboost) (3.0.9)\n",
      "Requirement already satisfied: tenacity>=6.2.0 in c:\\users\\avinash\\anaconda3\\lib\\site-packages (from plotly->catboost) (8.2.2)\n"
     ]
    }
   ],
   "source": [
    "!pip install xgboost\n",
    "!pip install catboost"
   ]
  },
  {
   "cell_type": "code",
   "execution_count": 2,
   "id": "d4d7c191",
   "metadata": {},
   "outputs": [],
   "source": [
    "import pandas as pd\n",
    "import seaborn as sns\n",
    "import matplotlib.pyplot as plt\n",
    "from sklearn.ensemble import RandomForestClassifier\n",
    "from sklearn.model_selection import train_test_split, GridSearchCV\n",
    "from sklearn.preprocessing import OneHotEncoder\n",
    "from sklearn.pipeline import Pipeline\n",
    "from sklearn.impute import SimpleImputer\n",
    "from sklearn.compose import ColumnTransformer\n",
    "from sklearn.metrics import accuracy_score, classification_report\n",
    "from xgboost import XGBClassifier\n",
    "from catboost import CatBoostClassifier\n",
    "from sklearn.neighbors import KNeighborsClassifier\n",
    "from sklearn.svm import SVC\n",
    "import warnings\n",
    "\n",
    "warnings.filterwarnings('ignore')"
   ]
  },
  {
   "cell_type": "code",
   "execution_count": 3,
   "id": "3f0036a1",
   "metadata": {},
   "outputs": [],
   "source": [
    "df_train = pd.read_csv('data/train.csv')\n",
    "df_test = pd.read_csv('data/test.csv')"
   ]
  },
  {
   "cell_type": "code",
   "execution_count": 4,
   "id": "0c3c7b49",
   "metadata": {},
   "outputs": [
    {
     "name": "stdout",
     "output_type": "stream",
     "text": [
      "Full train dataset shape is (8693, 14)\n",
      "Full test dataset shape is (4277, 13)\n"
     ]
    }
   ],
   "source": [
    "print(\"Full train dataset shape is {}\".format(df_train.shape))\n",
    "print(\"Full test dataset shape is {}\".format(df_test.shape))"
   ]
  },
  {
   "cell_type": "code",
   "execution_count": 5,
   "id": "25712828",
   "metadata": {},
   "outputs": [
    {
     "data": {
      "text/html": [
       "<div>\n",
       "<style scoped>\n",
       "    .dataframe tbody tr th:only-of-type {\n",
       "        vertical-align: middle;\n",
       "    }\n",
       "\n",
       "    .dataframe tbody tr th {\n",
       "        vertical-align: top;\n",
       "    }\n",
       "\n",
       "    .dataframe thead th {\n",
       "        text-align: right;\n",
       "    }\n",
       "</style>\n",
       "<table border=\"1\" class=\"dataframe\">\n",
       "  <thead>\n",
       "    <tr style=\"text-align: right;\">\n",
       "      <th></th>\n",
       "      <th>PassengerId</th>\n",
       "      <th>HomePlanet</th>\n",
       "      <th>CryoSleep</th>\n",
       "      <th>Cabin</th>\n",
       "      <th>Destination</th>\n",
       "      <th>Age</th>\n",
       "      <th>VIP</th>\n",
       "      <th>RoomService</th>\n",
       "      <th>FoodCourt</th>\n",
       "      <th>ShoppingMall</th>\n",
       "      <th>Spa</th>\n",
       "      <th>VRDeck</th>\n",
       "      <th>Name</th>\n",
       "      <th>Transported</th>\n",
       "    </tr>\n",
       "  </thead>\n",
       "  <tbody>\n",
       "    <tr>\n",
       "      <th>4344</th>\n",
       "      <td>4625_07</td>\n",
       "      <td>Europa</td>\n",
       "      <td>True</td>\n",
       "      <td>B/183/S</td>\n",
       "      <td>55 Cancri e</td>\n",
       "      <td>29.0</td>\n",
       "      <td>False</td>\n",
       "      <td>0.0</td>\n",
       "      <td>0.0</td>\n",
       "      <td>0.0</td>\n",
       "      <td>0.0</td>\n",
       "      <td>0.0</td>\n",
       "      <td>Sadiram Ineedeve</td>\n",
       "      <td>True</td>\n",
       "    </tr>\n",
       "    <tr>\n",
       "      <th>6250</th>\n",
       "      <td>6614_01</td>\n",
       "      <td>Mars</td>\n",
       "      <td>True</td>\n",
       "      <td>F/1268/S</td>\n",
       "      <td>TRAPPIST-1e</td>\n",
       "      <td>29.0</td>\n",
       "      <td>False</td>\n",
       "      <td>0.0</td>\n",
       "      <td>0.0</td>\n",
       "      <td>0.0</td>\n",
       "      <td>0.0</td>\n",
       "      <td>0.0</td>\n",
       "      <td>Naffsh Katte</td>\n",
       "      <td>True</td>\n",
       "    </tr>\n",
       "    <tr>\n",
       "      <th>8597</th>\n",
       "      <td>9178_01</td>\n",
       "      <td>Earth</td>\n",
       "      <td>False</td>\n",
       "      <td>F/1877/P</td>\n",
       "      <td>TRAPPIST-1e</td>\n",
       "      <td>53.0</td>\n",
       "      <td>False</td>\n",
       "      <td>49.0</td>\n",
       "      <td>584.0</td>\n",
       "      <td>0.0</td>\n",
       "      <td>0.0</td>\n",
       "      <td>70.0</td>\n",
       "      <td>Ernard Barnoldeney</td>\n",
       "      <td>False</td>\n",
       "    </tr>\n",
       "    <tr>\n",
       "      <th>5360</th>\n",
       "      <td>5725_01</td>\n",
       "      <td>Earth</td>\n",
       "      <td>False</td>\n",
       "      <td>F/1094/S</td>\n",
       "      <td>TRAPPIST-1e</td>\n",
       "      <td>24.0</td>\n",
       "      <td>False</td>\n",
       "      <td>156.0</td>\n",
       "      <td>0.0</td>\n",
       "      <td>364.0</td>\n",
       "      <td>489.0</td>\n",
       "      <td>383.0</td>\n",
       "      <td>Clindy Joycerton</td>\n",
       "      <td>True</td>\n",
       "    </tr>\n",
       "    <tr>\n",
       "      <th>815</th>\n",
       "      <td>0867_01</td>\n",
       "      <td>Earth</td>\n",
       "      <td>False</td>\n",
       "      <td>F/163/S</td>\n",
       "      <td>TRAPPIST-1e</td>\n",
       "      <td>NaN</td>\n",
       "      <td>False</td>\n",
       "      <td>2.0</td>\n",
       "      <td>850.0</td>\n",
       "      <td>18.0</td>\n",
       "      <td>2.0</td>\n",
       "      <td>0.0</td>\n",
       "      <td>Ernice Stephendsey</td>\n",
       "      <td>False</td>\n",
       "    </tr>\n",
       "  </tbody>\n",
       "</table>\n",
       "</div>"
      ],
      "text/plain": [
       "     PassengerId HomePlanet CryoSleep     Cabin  Destination   Age    VIP  \\\n",
       "4344     4625_07     Europa      True   B/183/S  55 Cancri e  29.0  False   \n",
       "6250     6614_01       Mars      True  F/1268/S  TRAPPIST-1e  29.0  False   \n",
       "8597     9178_01      Earth     False  F/1877/P  TRAPPIST-1e  53.0  False   \n",
       "5360     5725_01      Earth     False  F/1094/S  TRAPPIST-1e  24.0  False   \n",
       "815      0867_01      Earth     False   F/163/S  TRAPPIST-1e   NaN  False   \n",
       "\n",
       "      RoomService  FoodCourt  ShoppingMall    Spa  VRDeck                Name  \\\n",
       "4344          0.0        0.0           0.0    0.0     0.0    Sadiram Ineedeve   \n",
       "6250          0.0        0.0           0.0    0.0     0.0        Naffsh Katte   \n",
       "8597         49.0      584.0           0.0    0.0    70.0  Ernard Barnoldeney   \n",
       "5360        156.0        0.0         364.0  489.0   383.0    Clindy Joycerton   \n",
       "815           2.0      850.0          18.0    2.0     0.0  Ernice Stephendsey   \n",
       "\n",
       "      Transported  \n",
       "4344         True  \n",
       "6250         True  \n",
       "8597        False  \n",
       "5360         True  \n",
       "815         False  "
      ]
     },
     "execution_count": 5,
     "metadata": {},
     "output_type": "execute_result"
    }
   ],
   "source": [
    "df_train.sample(5)"
   ]
  },
  {
   "cell_type": "code",
   "execution_count": 6,
   "id": "1e3936f4",
   "metadata": {},
   "outputs": [
    {
     "name": "stdout",
     "output_type": "stream",
     "text": [
      "<class 'pandas.core.frame.DataFrame'>\n",
      "RangeIndex: 8693 entries, 0 to 8692\n",
      "Data columns (total 14 columns):\n",
      " #   Column        Non-Null Count  Dtype  \n",
      "---  ------        --------------  -----  \n",
      " 0   PassengerId   8693 non-null   object \n",
      " 1   HomePlanet    8492 non-null   object \n",
      " 2   CryoSleep     8476 non-null   object \n",
      " 3   Cabin         8494 non-null   object \n",
      " 4   Destination   8511 non-null   object \n",
      " 5   Age           8514 non-null   float64\n",
      " 6   VIP           8490 non-null   object \n",
      " 7   RoomService   8512 non-null   float64\n",
      " 8   FoodCourt     8510 non-null   float64\n",
      " 9   ShoppingMall  8485 non-null   float64\n",
      " 10  Spa           8510 non-null   float64\n",
      " 11  VRDeck        8505 non-null   float64\n",
      " 12  Name          8493 non-null   object \n",
      " 13  Transported   8693 non-null   bool   \n",
      "dtypes: bool(1), float64(6), object(7)\n",
      "memory usage: 891.5+ KB\n"
     ]
    }
   ],
   "source": [
    "df_train.info()"
   ]
  },
  {
   "cell_type": "code",
   "execution_count": 7,
   "id": "5c4ff6bf",
   "metadata": {},
   "outputs": [
    {
     "data": {
      "text/plain": [
       "PassengerId       0\n",
       "HomePlanet      201\n",
       "CryoSleep       217\n",
       "Cabin           199\n",
       "Destination     182\n",
       "Age             179\n",
       "VIP             203\n",
       "RoomService     181\n",
       "FoodCourt       183\n",
       "ShoppingMall    208\n",
       "Spa             183\n",
       "VRDeck          188\n",
       "Name            200\n",
       "Transported       0\n",
       "dtype: int64"
      ]
     },
     "execution_count": 7,
     "metadata": {},
     "output_type": "execute_result"
    }
   ],
   "source": [
    "df_train.isnull().sum()"
   ]
  },
  {
   "cell_type": "code",
   "execution_count": 8,
   "id": "185be8c6",
   "metadata": {},
   "outputs": [
    {
     "data": {
      "text/plain": [
       "0"
      ]
     },
     "execution_count": 8,
     "metadata": {},
     "output_type": "execute_result"
    }
   ],
   "source": [
    "# checking for the duplicate values\n",
    "df_train.duplicated().sum()"
   ]
  },
  {
   "cell_type": "code",
   "execution_count": 9,
   "id": "17fdc0e5",
   "metadata": {},
   "outputs": [
    {
     "name": "stdout",
     "output_type": "stream",
     "text": [
      "Index(['PassengerId', 'HomePlanet', 'CryoSleep', 'Cabin', 'Destination', 'VIP',\n",
      "       'Name'],\n",
      "      dtype='object') Index(['Age', 'RoomService', 'FoodCourt', 'ShoppingMall', 'Spa', 'VRDeck'], dtype='object')\n"
     ]
    }
   ],
   "source": [
    "# separating categorical columns and numerical columns\n",
    "categorical_cols = df_train.select_dtypes(include = ['object']).columns\n",
    "numerical_cols = df_train.select_dtypes(include = ['float64', 'int64']).columns\n",
    "\n",
    "print(categorical_cols, numerical_cols)"
   ]
  },
  {
   "cell_type": "markdown",
   "id": "78ea88a5",
   "metadata": {},
   "source": [
    "# Exploratory data analysis (EDA)"
   ]
  },
  {
   "cell_type": "code",
   "execution_count": 32,
   "id": "ebba31df",
   "metadata": {},
   "outputs": [
    {
     "data": {
      "image/png": "[encoded data removed]",
      "text/plain": [
       "<Figure size 600x400 with 1 Axes>"
      ]
     },
     "metadata": {},
     "output_type": "display_data"
    }
   ],
   "source": [
    "plt.figure(figsize=(6,4))\n",
    "\n",
    "y.value_counts().sort_index().plot(kind='bar' , color=['blue', 'red'])\n",
    "plt.xlabel('Transported')\n",
    "plt.ylabel('Count')\n",
    "plt.title('Proprotion of the transported passenger')\n",
    "\n",
    "plt.show()"
   ]
  },
  {
   "cell_type": "code",
   "execution_count": 53,
   "id": "2a8f8621",
   "metadata": {},
   "outputs": [
    {
     "data": {
      "image/png": "[encoded data removed]",
      "text/plain": [
       "<Figure size 1200x600 with 2 Axes>"
      ]
     },
     "metadata": {},
     "output_type": "display_data"
    }
   ],
   "source": [
    "plt.figure(figsize=(12,6))\n",
    "\n",
    "transported_passenger = df_train[df_train['Transported'] == True]\n",
    "\n",
    "plt.subplot(1, 2, 1)\n",
    "sns.boxplot(data=df_train, y='Age', color='red')\n",
    "plt.title('Description of Age in spaceship')\n",
    "\n",
    "plt.subplot(1, 2, 2)\n",
    "sns.boxplot(y=transported_passenger['Age'], color='green')\n",
    "plt.title('Decription of transported per Age')\n",
    "\n",
    "plt.show()"
   ]
  },
  {
   "cell_type": "code",
   "execution_count": 54,
   "id": "b9f9f536",
   "metadata": {},
   "outputs": [
    {
     "data": {
      "image/png": "[encoded data removed]",
      "text/plain": [
       "<Figure size 600x400 with 1 Axes>"
      ]
     },
     "metadata": {},
     "output_type": "display_data"
    }
   ],
   "source": [
    "# Understanding how many VIP passenger have Survived\n",
    "plt.figure(figsize=(6,4))\n",
    "\n",
    "transported_vip = df_train.groupby('VIP')['Transported'].count()\n",
    "\n",
    "sns.barplot(y=transported_vip.values, x=transported_vip.index)\n",
    "\n",
    "plt.title( 'Survived passenger frin vip group' )  \n",
    "plt.xlabel( 'transported' )\n",
    "plt.ylabel( 'vip counts' )\n",
    "\n",
    "plt.show()"
   ]
  },
  {
   "cell_type": "code",
   "execution_count": 42,
   "id": "79a36609",
   "metadata": {},
   "outputs": [
    {
     "data": {
      "image/png": "[encoded data removed]",
      "text/plain": [
       "<Figure size 1200x600 with 1 Axes>"
      ]
     },
     "metadata": {},
     "output_type": "display_data"
    }
   ],
   "source": [
    "plt.figure(figsize=(12,6))\n",
    "\n",
    "transported_cryosleep = df_train.groupby('CryoSleep')['Transported'].count()\n",
    "\n",
    "sns.barplot(y=transported_cryosleep.values, x=transported_cryosleep.index)\n",
    "\n",
    "plt.title('Survived passenger who got Cryosleep')\n",
    "plt.xlabel('Survived')\n",
    "plt.ylabel('Count Cryosleep passenger')\n",
    "\n",
    "plt.show()"
   ]
  },
  {
   "cell_type": "code",
   "execution_count": 43,
   "id": "fe58b312",
   "metadata": {},
   "outputs": [
    {
     "data": {
      "text/plain": [
       "HomePlanet\n",
       "Earth     4602\n",
       "Europa    2131\n",
       "Mars      1759\n",
       "Name: count, dtype: int64"
      ]
     },
     "execution_count": 43,
     "metadata": {},
     "output_type": "execute_result"
    }
   ],
   "source": [
    "df_train['HomePlanet'].value_counts()"
   ]
  },
  {
   "cell_type": "code",
   "execution_count": 55,
   "id": "f25738dd",
   "metadata": {},
   "outputs": [
    {
     "data": {
      "image/png": "[encoded data removed]",
      "text/plain": [
       "<Figure size 1200x600 with 2 Axes>"
      ]
     },
     "metadata": {},
     "output_type": "display_data"
    }
   ],
   "source": [
    "plt.figure(figsize=(12,6))\n",
    "\n",
    "plt.subplot(1,2,1)\n",
    "plt.pie(data= df_train,\n",
    "        labels=df_train['HomePlanet'].value_counts().index,\n",
    "        x=df_train['HomePlanet'].value_counts(),\n",
    "       autopct='%1.1f%%'\n",
    "       )\n",
    "\n",
    "plt.subplot(1,2,2)\n",
    "plt.pie(data= transported_passenger,\n",
    "        labels=transported_passenger['HomePlanet'].value_counts().index,\n",
    "        x=transported_passenger['HomePlanet'].value_counts(),\n",
    "       autopct='%1.1f%%'\n",
    "       )\n",
    "\n",
    "plt.show()"
   ]
  },
  {
   "cell_type": "code",
   "execution_count": 60,
   "id": "b68bdd90",
   "metadata": {},
   "outputs": [
    {
     "data": {
      "image/png": "[encoded data removed]",
      "text/plain": [
       "<Figure size 1000x800 with 2 Axes>"
      ]
     },
     "metadata": {},
     "output_type": "display_data"
    }
   ],
   "source": [
    "plt.figure(figsize=(10,8))\n",
    "\n",
    "sns.heatmap(df_train[['RoomService','FoodCourt','ShoppingMall','Spa','VRDeck','Transported']].corr(),\n",
    "            annot=True,\n",
    "            fmt=\".2f\",\n",
    "            cmap=\"coolwarm\",\n",
    "            vmin=-1,\n",
    "            vmax=1,\n",
    "            linewidths=0.5,\n",
    "            square=True,\n",
    "            cbar_kws={\"shrink\": 0.75}\n",
    "           )\n",
    "\n",
    "plt.title(\"Correlation heatmap of Numerical Features\",fontsize=14, pad=16)\n",
    "\n",
    "plt.show()\n",
    "    "
   ]
  },
  {
   "cell_type": "code",
   "execution_count": 61,
   "id": "6b505084",
   "metadata": {},
   "outputs": [],
   "source": [
    "# there are three columns who have more realtion with the tramsported panssenger"
   ]
  },
  {
   "cell_type": "markdown",
   "id": "00636a48",
   "metadata": {},
   "source": [
    "# Preprocessing and organizing the data"
   ]
  },
  {
   "cell_type": "code",
   "execution_count": 62,
   "id": "271a5eca",
   "metadata": {},
   "outputs": [],
   "source": [
    "# since the other catogorical columns would need a deep anaylysis \n",
    "# about the how i showl work with them, since The discription  of the dataset we know tha the \n",
    "# homePlanet column have importance for model"
   ]
  },
  {
   "cell_type": "code",
   "execution_count": 63,
   "id": "8ab135f2",
   "metadata": {},
   "outputs": [
    {
     "data": {
      "text/plain": [
       "Index(['PassengerId', 'HomePlanet', 'CryoSleep', 'Cabin', 'Destination', 'Age',\n",
       "       'VIP', 'RoomService', 'FoodCourt', 'ShoppingMall', 'Spa', 'VRDeck',\n",
       "       'Name', 'Transported'],\n",
       "      dtype='object')"
      ]
     },
     "execution_count": 63,
     "metadata": {},
     "output_type": "execute_result"
    }
   ],
   "source": [
    "df_train.columns"
   ]
  },
  {
   "cell_type": "code",
   "execution_count": 65,
   "id": "826db1f6",
   "metadata": {},
   "outputs": [
    {
     "data": {
      "text/html": [
       "<div>\n",
       "<style scoped>\n",
       "    .dataframe tbody tr th:only-of-type {\n",
       "        vertical-align: middle;\n",
       "    }\n",
       "\n",
       "    .dataframe tbody tr th {\n",
       "        vertical-align: top;\n",
       "    }\n",
       "\n",
       "    .dataframe thead th {\n",
       "        text-align: right;\n",
       "    }\n",
       "</style>\n",
       "<table border=\"1\" class=\"dataframe\">\n",
       "  <thead>\n",
       "    <tr style=\"text-align: right;\">\n",
       "      <th></th>\n",
       "      <th>PassengerId</th>\n",
       "      <th>HomePlanet</th>\n",
       "      <th>CryoSleep</th>\n",
       "      <th>Cabin</th>\n",
       "      <th>Destination</th>\n",
       "      <th>Age</th>\n",
       "      <th>VIP</th>\n",
       "      <th>RoomService</th>\n",
       "      <th>FoodCourt</th>\n",
       "      <th>ShoppingMall</th>\n",
       "      <th>Spa</th>\n",
       "      <th>VRDeck</th>\n",
       "      <th>Name</th>\n",
       "      <th>Transported</th>\n",
       "    </tr>\n",
       "  </thead>\n",
       "  <tbody>\n",
       "    <tr>\n",
       "      <th>92</th>\n",
       "      <td>0099_02</td>\n",
       "      <td>Earth</td>\n",
       "      <td>NaN</td>\n",
       "      <td>G/12/P</td>\n",
       "      <td>TRAPPIST-1e</td>\n",
       "      <td>2.0</td>\n",
       "      <td>False</td>\n",
       "      <td>0.0</td>\n",
       "      <td>0.0</td>\n",
       "      <td>0.0</td>\n",
       "      <td>0.0</td>\n",
       "      <td>0.0</td>\n",
       "      <td>Thewis Connelson</td>\n",
       "      <td>True</td>\n",
       "    </tr>\n",
       "    <tr>\n",
       "      <th>111</th>\n",
       "      <td>0115_01</td>\n",
       "      <td>Mars</td>\n",
       "      <td>NaN</td>\n",
       "      <td>F/24/P</td>\n",
       "      <td>TRAPPIST-1e</td>\n",
       "      <td>26.0</td>\n",
       "      <td>False</td>\n",
       "      <td>0.0</td>\n",
       "      <td>0.0</td>\n",
       "      <td>0.0</td>\n",
       "      <td>0.0</td>\n",
       "      <td>NaN</td>\n",
       "      <td>Rohs Pead</td>\n",
       "      <td>True</td>\n",
       "    </tr>\n",
       "    <tr>\n",
       "      <th>152</th>\n",
       "      <td>0173_01</td>\n",
       "      <td>Earth</td>\n",
       "      <td>NaN</td>\n",
       "      <td>E/11/S</td>\n",
       "      <td>TRAPPIST-1e</td>\n",
       "      <td>58.0</td>\n",
       "      <td>False</td>\n",
       "      <td>0.0</td>\n",
       "      <td>985.0</td>\n",
       "      <td>0.0</td>\n",
       "      <td>5.0</td>\n",
       "      <td>0.0</td>\n",
       "      <td>Hilip Grifford</td>\n",
       "      <td>True</td>\n",
       "    </tr>\n",
       "    <tr>\n",
       "      <th>175</th>\n",
       "      <td>0198_01</td>\n",
       "      <td>Earth</td>\n",
       "      <td>NaN</td>\n",
       "      <td>G/30/P</td>\n",
       "      <td>PSO J318.5-22</td>\n",
       "      <td>52.0</td>\n",
       "      <td>False</td>\n",
       "      <td>0.0</td>\n",
       "      <td>0.0</td>\n",
       "      <td>0.0</td>\n",
       "      <td>0.0</td>\n",
       "      <td>0.0</td>\n",
       "      <td>Jeroy Cookson</td>\n",
       "      <td>True</td>\n",
       "    </tr>\n",
       "    <tr>\n",
       "      <th>266</th>\n",
       "      <td>0290_03</td>\n",
       "      <td>Europa</td>\n",
       "      <td>NaN</td>\n",
       "      <td>B/7/S</td>\n",
       "      <td>TRAPPIST-1e</td>\n",
       "      <td>43.0</td>\n",
       "      <td>False</td>\n",
       "      <td>0.0</td>\n",
       "      <td>0.0</td>\n",
       "      <td>0.0</td>\n",
       "      <td>0.0</td>\n",
       "      <td>0.0</td>\n",
       "      <td>Dhenar Excialing</td>\n",
       "      <td>True</td>\n",
       "    </tr>\n",
       "    <tr>\n",
       "      <th>...</th>\n",
       "      <td>...</td>\n",
       "      <td>...</td>\n",
       "      <td>...</td>\n",
       "      <td>...</td>\n",
       "      <td>...</td>\n",
       "      <td>...</td>\n",
       "      <td>...</td>\n",
       "      <td>...</td>\n",
       "      <td>...</td>\n",
       "      <td>...</td>\n",
       "      <td>...</td>\n",
       "      <td>...</td>\n",
       "      <td>...</td>\n",
       "      <td>...</td>\n",
       "    </tr>\n",
       "    <tr>\n",
       "      <th>8362</th>\n",
       "      <td>8944_02</td>\n",
       "      <td>Earth</td>\n",
       "      <td>NaN</td>\n",
       "      <td>G/1442/S</td>\n",
       "      <td>PSO J318.5-22</td>\n",
       "      <td>17.0</td>\n",
       "      <td>False</td>\n",
       "      <td>0.0</td>\n",
       "      <td>0.0</td>\n",
       "      <td>0.0</td>\n",
       "      <td>0.0</td>\n",
       "      <td>0.0</td>\n",
       "      <td>Evan Hobbinson</td>\n",
       "      <td>True</td>\n",
       "    </tr>\n",
       "    <tr>\n",
       "      <th>8620</th>\n",
       "      <td>9197_01</td>\n",
       "      <td>Europa</td>\n",
       "      <td>NaN</td>\n",
       "      <td>C/308/P</td>\n",
       "      <td>55 Cancri e</td>\n",
       "      <td>44.0</td>\n",
       "      <td>False</td>\n",
       "      <td>0.0</td>\n",
       "      <td>0.0</td>\n",
       "      <td>0.0</td>\n",
       "      <td>0.0</td>\n",
       "      <td>0.0</td>\n",
       "      <td>Bellus Platch</td>\n",
       "      <td>True</td>\n",
       "    </tr>\n",
       "    <tr>\n",
       "      <th>8664</th>\n",
       "      <td>9246_01</td>\n",
       "      <td>Earth</td>\n",
       "      <td>NaN</td>\n",
       "      <td>G/1490/S</td>\n",
       "      <td>TRAPPIST-1e</td>\n",
       "      <td>32.0</td>\n",
       "      <td>False</td>\n",
       "      <td>0.0</td>\n",
       "      <td>0.0</td>\n",
       "      <td>0.0</td>\n",
       "      <td>0.0</td>\n",
       "      <td>0.0</td>\n",
       "      <td>NaN</td>\n",
       "      <td>True</td>\n",
       "    </tr>\n",
       "    <tr>\n",
       "      <th>8675</th>\n",
       "      <td>9259_01</td>\n",
       "      <td>Earth</td>\n",
       "      <td>NaN</td>\n",
       "      <td>F/1893/P</td>\n",
       "      <td>TRAPPIST-1e</td>\n",
       "      <td>44.0</td>\n",
       "      <td>False</td>\n",
       "      <td>1030.0</td>\n",
       "      <td>1015.0</td>\n",
       "      <td>0.0</td>\n",
       "      <td>11.0</td>\n",
       "      <td>NaN</td>\n",
       "      <td>Annah Gilleyons</td>\n",
       "      <td>True</td>\n",
       "    </tr>\n",
       "    <tr>\n",
       "      <th>8687</th>\n",
       "      <td>9275_03</td>\n",
       "      <td>Europa</td>\n",
       "      <td>NaN</td>\n",
       "      <td>A/97/P</td>\n",
       "      <td>TRAPPIST-1e</td>\n",
       "      <td>30.0</td>\n",
       "      <td>False</td>\n",
       "      <td>0.0</td>\n",
       "      <td>3208.0</td>\n",
       "      <td>0.0</td>\n",
       "      <td>2.0</td>\n",
       "      <td>330.0</td>\n",
       "      <td>Atlasym Conable</td>\n",
       "      <td>True</td>\n",
       "    </tr>\n",
       "  </tbody>\n",
       "</table>\n",
       "<p>106 rows × 14 columns</p>\n",
       "</div>"
      ],
      "text/plain": [
       "     PassengerId HomePlanet CryoSleep     Cabin    Destination   Age    VIP  \\\n",
       "92       0099_02      Earth       NaN    G/12/P    TRAPPIST-1e   2.0  False   \n",
       "111      0115_01       Mars       NaN    F/24/P    TRAPPIST-1e  26.0  False   \n",
       "152      0173_01      Earth       NaN    E/11/S    TRAPPIST-1e  58.0  False   \n",
       "175      0198_01      Earth       NaN    G/30/P  PSO J318.5-22  52.0  False   \n",
       "266      0290_03     Europa       NaN     B/7/S    TRAPPIST-1e  43.0  False   \n",
       "...          ...        ...       ...       ...            ...   ...    ...   \n",
       "8362     8944_02      Earth       NaN  G/1442/S  PSO J318.5-22  17.0  False   \n",
       "8620     9197_01     Europa       NaN   C/308/P    55 Cancri e  44.0  False   \n",
       "8664     9246_01      Earth       NaN  G/1490/S    TRAPPIST-1e  32.0  False   \n",
       "8675     9259_01      Earth       NaN  F/1893/P    TRAPPIST-1e  44.0  False   \n",
       "8687     9275_03     Europa       NaN    A/97/P    TRAPPIST-1e  30.0  False   \n",
       "\n",
       "      RoomService  FoodCourt  ShoppingMall   Spa  VRDeck              Name  \\\n",
       "92            0.0        0.0           0.0   0.0     0.0  Thewis Connelson   \n",
       "111           0.0        0.0           0.0   0.0     NaN         Rohs Pead   \n",
       "152           0.0      985.0           0.0   5.0     0.0    Hilip Grifford   \n",
       "175           0.0        0.0           0.0   0.0     0.0     Jeroy Cookson   \n",
       "266           0.0        0.0           0.0   0.0     0.0  Dhenar Excialing   \n",
       "...           ...        ...           ...   ...     ...               ...   \n",
       "8362          0.0        0.0           0.0   0.0     0.0    Evan Hobbinson   \n",
       "8620          0.0        0.0           0.0   0.0     0.0     Bellus Platch   \n",
       "8664          0.0        0.0           0.0   0.0     0.0               NaN   \n",
       "8675       1030.0     1015.0           0.0  11.0     NaN   Annah Gilleyons   \n",
       "8687          0.0     3208.0           0.0   2.0   330.0   Atlasym Conable   \n",
       "\n",
       "      Transported  \n",
       "92           True  \n",
       "111          True  \n",
       "152          True  \n",
       "175          True  \n",
       "266          True  \n",
       "...           ...  \n",
       "8362         True  \n",
       "8620         True  \n",
       "8664         True  \n",
       "8675         True  \n",
       "8687         True  \n",
       "\n",
       "[106 rows x 14 columns]"
      ]
     },
     "execution_count": 65,
     "metadata": {},
     "output_type": "execute_result"
    }
   ],
   "source": [
    "df_train[(df_train['CryoSleep'].isnull()) & (df_train['Transported'] == 1)]"
   ]
  },
  {
   "cell_type": "code",
   "execution_count": 66,
   "id": "ebb7faaa",
   "metadata": {},
   "outputs": [
    {
     "data": {
      "text/plain": [
       "count       217\n",
       "unique        2\n",
       "top       False\n",
       "freq        111\n",
       "Name: Transported, dtype: object"
      ]
     },
     "execution_count": 66,
     "metadata": {},
     "output_type": "execute_result"
    }
   ],
   "source": [
    "df_train[(df_train['CryoSleep'].isnull())]['Transported'].describe()"
   ]
  },
  {
   "cell_type": "code",
   "execution_count": 67,
   "id": "6d96ae17",
   "metadata": {},
   "outputs": [
    {
     "data": {
      "text/plain": [
       "count      203\n",
       "unique       2\n",
       "top       True\n",
       "freq       104\n",
       "Name: Transported, dtype: object"
      ]
     },
     "execution_count": 67,
     "metadata": {},
     "output_type": "execute_result"
    }
   ],
   "source": [
    "df_train[(df_train['VIP'].isnull())]['Transported'].describe()"
   ]
  },
  {
   "cell_type": "code",
   "execution_count": 68,
   "id": "8f945333",
   "metadata": {},
   "outputs": [
    {
     "data": {
      "text/html": [
       "<div>\n",
       "<style scoped>\n",
       "    .dataframe tbody tr th:only-of-type {\n",
       "        vertical-align: middle;\n",
       "    }\n",
       "\n",
       "    .dataframe tbody tr th {\n",
       "        vertical-align: top;\n",
       "    }\n",
       "\n",
       "    .dataframe thead th {\n",
       "        text-align: right;\n",
       "    }\n",
       "</style>\n",
       "<table border=\"1\" class=\"dataframe\">\n",
       "  <thead>\n",
       "    <tr style=\"text-align: right;\">\n",
       "      <th></th>\n",
       "      <th>PassengerId</th>\n",
       "      <th>HomePlanet</th>\n",
       "      <th>CryoSleep</th>\n",
       "      <th>Cabin</th>\n",
       "      <th>Destination</th>\n",
       "      <th>Age</th>\n",
       "      <th>VIP</th>\n",
       "      <th>RoomService</th>\n",
       "      <th>FoodCourt</th>\n",
       "      <th>ShoppingMall</th>\n",
       "      <th>Spa</th>\n",
       "      <th>VRDeck</th>\n",
       "      <th>Name</th>\n",
       "      <th>Transported</th>\n",
       "    </tr>\n",
       "  </thead>\n",
       "  <tbody>\n",
       "    <tr>\n",
       "      <th>1017</th>\n",
       "      <td>1085_01</td>\n",
       "      <td>Earth</td>\n",
       "      <td>NaN</td>\n",
       "      <td>G/165/P</td>\n",
       "      <td>TRAPPIST-1e</td>\n",
       "      <td>54.0</td>\n",
       "      <td>NaN</td>\n",
       "      <td>0.0</td>\n",
       "      <td>0.0</td>\n",
       "      <td>0.0</td>\n",
       "      <td>0.0</td>\n",
       "      <td>0.0</td>\n",
       "      <td>Troyce Wagnerray</td>\n",
       "      <td>False</td>\n",
       "    </tr>\n",
       "    <tr>\n",
       "      <th>1383</th>\n",
       "      <td>1453_01</td>\n",
       "      <td>Earth</td>\n",
       "      <td>NaN</td>\n",
       "      <td>G/229/P</td>\n",
       "      <td>55 Cancri e</td>\n",
       "      <td>16.0</td>\n",
       "      <td>NaN</td>\n",
       "      <td>0.0</td>\n",
       "      <td>2838.0</td>\n",
       "      <td>32.0</td>\n",
       "      <td>5.0</td>\n",
       "      <td>3404.0</td>\n",
       "      <td>Kimena Thorney</td>\n",
       "      <td>False</td>\n",
       "    </tr>\n",
       "    <tr>\n",
       "      <th>2560</th>\n",
       "      <td>2747_01</td>\n",
       "      <td>Mars</td>\n",
       "      <td>NaN</td>\n",
       "      <td>F/570/P</td>\n",
       "      <td>TRAPPIST-1e</td>\n",
       "      <td>49.0</td>\n",
       "      <td>NaN</td>\n",
       "      <td>0.0</td>\n",
       "      <td>0.0</td>\n",
       "      <td>0.0</td>\n",
       "      <td>0.0</td>\n",
       "      <td>0.0</td>\n",
       "      <td>Stisps Chrie</td>\n",
       "      <td>True</td>\n",
       "    </tr>\n",
       "    <tr>\n",
       "      <th>2639</th>\n",
       "      <td>2822_02</td>\n",
       "      <td>Earth</td>\n",
       "      <td>NaN</td>\n",
       "      <td>G/450/S</td>\n",
       "      <td>TRAPPIST-1e</td>\n",
       "      <td>5.0</td>\n",
       "      <td>NaN</td>\n",
       "      <td>0.0</td>\n",
       "      <td>0.0</td>\n",
       "      <td>0.0</td>\n",
       "      <td>0.0</td>\n",
       "      <td>NaN</td>\n",
       "      <td>Salley Harverez</td>\n",
       "      <td>False</td>\n",
       "    </tr>\n",
       "    <tr>\n",
       "      <th>5409</th>\n",
       "      <td>5777_01</td>\n",
       "      <td>Earth</td>\n",
       "      <td>NaN</td>\n",
       "      <td>F/1199/P</td>\n",
       "      <td>PSO J318.5-22</td>\n",
       "      <td>46.0</td>\n",
       "      <td>NaN</td>\n",
       "      <td>559.0</td>\n",
       "      <td>25.0</td>\n",
       "      <td>NaN</td>\n",
       "      <td>22.0</td>\n",
       "      <td>765.0</td>\n",
       "      <td>Katen River</td>\n",
       "      <td>False</td>\n",
       "    </tr>\n",
       "    <tr>\n",
       "      <th>5697</th>\n",
       "      <td>6035_02</td>\n",
       "      <td>Earth</td>\n",
       "      <td>NaN</td>\n",
       "      <td>G/976/P</td>\n",
       "      <td>TRAPPIST-1e</td>\n",
       "      <td>3.0</td>\n",
       "      <td>NaN</td>\n",
       "      <td>0.0</td>\n",
       "      <td>0.0</td>\n",
       "      <td>0.0</td>\n",
       "      <td>0.0</td>\n",
       "      <td>0.0</td>\n",
       "      <td>Ginald Morsentley</td>\n",
       "      <td>False</td>\n",
       "    </tr>\n",
       "    <tr>\n",
       "      <th>6373</th>\n",
       "      <td>6741_02</td>\n",
       "      <td>Earth</td>\n",
       "      <td>NaN</td>\n",
       "      <td>F/1286/S</td>\n",
       "      <td>PSO J318.5-22</td>\n",
       "      <td>18.0</td>\n",
       "      <td>NaN</td>\n",
       "      <td>103.0</td>\n",
       "      <td>0.0</td>\n",
       "      <td>181.0</td>\n",
       "      <td>1611.0</td>\n",
       "      <td>22.0</td>\n",
       "      <td>Jeandy Reyersendry</td>\n",
       "      <td>False</td>\n",
       "    </tr>\n",
       "  </tbody>\n",
       "</table>\n",
       "</div>"
      ],
      "text/plain": [
       "     PassengerId HomePlanet CryoSleep     Cabin    Destination   Age  VIP  \\\n",
       "1017     1085_01      Earth       NaN   G/165/P    TRAPPIST-1e  54.0  NaN   \n",
       "1383     1453_01      Earth       NaN   G/229/P    55 Cancri e  16.0  NaN   \n",
       "2560     2747_01       Mars       NaN   F/570/P    TRAPPIST-1e  49.0  NaN   \n",
       "2639     2822_02      Earth       NaN   G/450/S    TRAPPIST-1e   5.0  NaN   \n",
       "5409     5777_01      Earth       NaN  F/1199/P  PSO J318.5-22  46.0  NaN   \n",
       "5697     6035_02      Earth       NaN   G/976/P    TRAPPIST-1e   3.0  NaN   \n",
       "6373     6741_02      Earth       NaN  F/1286/S  PSO J318.5-22  18.0  NaN   \n",
       "\n",
       "      RoomService  FoodCourt  ShoppingMall     Spa  VRDeck  \\\n",
       "1017          0.0        0.0           0.0     0.0     0.0   \n",
       "1383          0.0     2838.0          32.0     5.0  3404.0   \n",
       "2560          0.0        0.0           0.0     0.0     0.0   \n",
       "2639          0.0        0.0           0.0     0.0     NaN   \n",
       "5409        559.0       25.0           NaN    22.0   765.0   \n",
       "5697          0.0        0.0           0.0     0.0     0.0   \n",
       "6373        103.0        0.0         181.0  1611.0    22.0   \n",
       "\n",
       "                    Name  Transported  \n",
       "1017    Troyce Wagnerray        False  \n",
       "1383      Kimena Thorney        False  \n",
       "2560        Stisps Chrie         True  \n",
       "2639     Salley Harverez        False  \n",
       "5409         Katen River        False  \n",
       "5697   Ginald Morsentley        False  \n",
       "6373  Jeandy Reyersendry        False  "
      ]
     },
     "execution_count": 68,
     "metadata": {},
     "output_type": "execute_result"
    }
   ],
   "source": [
    "df_train[(df_train['CryoSleep'].isnull()) & (df_train['VIP'].isnull())]"
   ]
  },
  {
   "cell_type": "code",
   "execution_count": 69,
   "id": "9cb41a85",
   "metadata": {},
   "outputs": [],
   "source": [
    "df_train.drop(columns=['Cabin', 'Destination', 'Name'], inplace=True)\n",
    "df_test.drop(columns=['Cabin', 'Destination', 'Name'], inplace=True)\n",
    "\n",
    "df_train['VIP'].fillna(-1, inplace=True)\n",
    "df_train['CryoSleep'].fillna(-1, inplace=True)\n",
    "\n",
    "df_test['VIP'].fillna(-1, inplace=True)\n",
    "df_test['CryoSleep'].fillna(-1, inplace=True)\n",
    "\n",
    "X = df_train.drop(columns='Transported')\n",
    "y = df_train['Transported']"
   ]
  },
  {
   "cell_type": "code",
   "execution_count": 70,
   "id": "6a4abd07",
   "metadata": {},
   "outputs": [],
   "source": [
    "numerical_columns = ['RoomService', 'FoodCourt', 'ShoppingMall', 'Spa', 'VRDeck']\n",
    "categorical_columns = ['HomePlanet'] # HomePLanet is the only column I'm going to use\n",
    "\n",
    "numerical_transform = SimpleImputer(strategy='mean')\n",
    "\n",
    "categorical_transform = Pipeline(\n",
    "    steps=[\n",
    "        ('imputer', SimpleImputer(strategy='constant')),\n",
    "        ('one-hot', OneHotEncoder(handle_unknown='ignore'))\n",
    "    ])\n",
    "\n",
    "preprocessor = ColumnTransformer(\n",
    "    transformers=[\n",
    "        ('num', numerical_transform, numerical_columns),\n",
    "        ('cat', categorical_transform, categorical_columns)\n",
    "])"
   ]
  },
  {
   "cell_type": "code",
   "execution_count": 75,
   "id": "c7dd5675",
   "metadata": {},
   "outputs": [],
   "source": [
    "x_train, x_valid, y_train, y_valid = train_test_split(X, y, test_size=0.4, random_state=2 )"
   ]
  },
  {
   "cell_type": "markdown",
   "id": "c18ddc32",
   "metadata": {},
   "source": [
    "# RandomeForest Accuracy"
   ]
  },
  {
   "cell_type": "code",
   "execution_count": 76,
   "id": "6bfc768f",
   "metadata": {},
   "outputs": [
    {
     "name": "stdout",
     "output_type": "stream",
     "text": [
      "0.7918343875790684\n"
     ]
    }
   ],
   "source": [
    "rf_pipeline = Pipeline(\n",
    "    steps=[\n",
    "        ('preprocessor', preprocessor),\n",
    "        ('model', RandomForestClassifier(\n",
    "            random_state=42,\n",
    "            n_estimators=100)\n",
    "        )\n",
    "    ])\n",
    "\n",
    "rf_pipeline.fit(x_train, y_train)\n",
    "\n",
    "rf_predicts = rf_pipeline.predict(x_valid)\n",
    "\n",
    "print(accuracy_score(y_valid, rf_predicts))"
   ]
  },
  {
   "cell_type": "markdown",
   "id": "29d45a9f",
   "metadata": {},
   "source": [
    "# XGBoost accuracy"
   ]
  },
  {
   "cell_type": "code",
   "execution_count": 83,
   "id": "5a787cbc",
   "metadata": {},
   "outputs": [
    {
     "name": "stdout",
     "output_type": "stream",
     "text": [
      "0.7938470385278896\n"
     ]
    }
   ],
   "source": [
    "xgb_pipeline = Pipeline(\n",
    "    steps=[\n",
    "        ('preprocessor', preprocessor),\n",
    "        ('model', XGBClassifier(\n",
    "            random_state=2,\n",
    "            learning_rate=0.02,\n",
    "            n_estimators=350)\n",
    "        )\n",
    "    ])\n",
    "\n",
    "xgb_pipeline.fit(x_train, y_train)\n",
    "\n",
    "xgb_pipeline = xgb_pipeline.predict(x_valid)\n",
    "\n",
    "print(accuracy_score(y_valid, xgb_pipeline))"
   ]
  },
  {
   "cell_type": "code",
   "execution_count": 106,
   "id": "b2ca075e",
   "metadata": {},
   "outputs": [
    {
     "name": "stdout",
     "output_type": "stream",
     "text": [
      "Accuracy XGBoost: 0.7944220816561242\n",
      "Report XGBoost:\n",
      "               precision    recall  f1-score   support\n",
      "\n",
      "       False       0.82      0.74      0.78      1706\n",
      "        True       0.77      0.85      0.81      1772\n",
      "\n",
      "    accuracy                           0.79      3478\n",
      "   macro avg       0.80      0.79      0.79      3478\n",
      "weighted avg       0.80      0.79      0.79      3478\n",
      "\n"
     ]
    }
   ],
   "source": [
    "xgb_pipeline = Pipeline(\n",
    "    steps=[\n",
    "        ('preprocessor', preprocessor),\n",
    "        ('model', XGBClassifier(\n",
    "            random_state=2,\n",
    "            learning_rate=0.008,\n",
    "            n_estimators=330)\n",
    "        )\n",
    "    ])\n",
    "\n",
    "xgb_pipeline.fit(x_train, y_train)\n",
    "xgb_predict = xgb_pipeline.predict(x_valid)\n",
    "\n",
    "print(\"Accuracy XGBoost:\", accuracy_score(y_valid, xgb_predict))\n",
    "print(\"Report XGBoost:\\n\", classification_report(y_valid, xgb_predict))"
   ]
  },
  {
   "cell_type": "code",
   "execution_count": 90,
   "id": "5621c604",
   "metadata": {},
   "outputs": [
    {
     "name": "stdout",
     "output_type": "stream",
     "text": [
      "Accuracy KNN: 0.7377803335250144\n",
      "Report KNN:\n",
      "               precision    recall  f1-score   support\n",
      "\n",
      "       False       0.68      0.88      0.77      1706\n",
      "        True       0.84      0.60      0.70      1772\n",
      "\n",
      "    accuracy                           0.74      3478\n",
      "   macro avg       0.76      0.74      0.73      3478\n",
      "weighted avg       0.76      0.74      0.73      3478\n",
      "\n"
     ]
    }
   ],
   "source": [
    "knn_pipeline = Pipeline(\n",
    "    steps=[\n",
    "        ('preprocessor', preprocessor),\n",
    "        ('model', KNeighborsClassifier(n_neighbors=6)\n",
    "        )\n",
    "    ])\n",
    "\n",
    "knn_pipeline.fit(x_train, y_train)\n",
    "y_pred_knn = knn_pipeline.predict(x_valid)\n",
    "\n",
    "print(\"Accuracy KNN:\", accuracy_score(y_valid, y_pred_knn))\n",
    "print(\"Report KNN:\\n\", classification_report(y_valid, y_pred_knn))"
   ]
  },
  {
   "cell_type": "markdown",
   "id": "6f519cf2",
   "metadata": {},
   "source": [
    "# Cheking CatBoost accuracy"
   ]
  },
  {
   "cell_type": "code",
   "execution_count": 89,
   "id": "78d6527d",
   "metadata": {},
   "outputs": [
    {
     "name": "stdout",
     "output_type": "stream",
     "text": [
      "Accuracy CatBoost: 0.7912593444508338\n",
      "Report CatBoost:\n",
      "               precision    recall  f1-score   support\n",
      "\n",
      "       False       0.81      0.76      0.78      1706\n",
      "        True       0.78      0.82      0.80      1772\n",
      "\n",
      "    accuracy                           0.79      3478\n",
      "   macro avg       0.79      0.79      0.79      3478\n",
      "weighted avg       0.79      0.79      0.79      3478\n",
      "\n"
     ]
    }
   ],
   "source": [
    "cat_pipeline = Pipeline(\n",
    "    steps=[\n",
    "        ('preprocessor', preprocessor),\n",
    "        ('model', CatBoostClassifier(\n",
    "            iterations=100,\n",
    "            learning_rate=0.02,\n",
    "            depth=8,\n",
    "            verbose=0,\n",
    "            random_state=2)\n",
    "        )\n",
    "    ])\n",
    "\n",
    "cat_pipeline.fit(x_train, y_train)\n",
    "cat_predict = cat_pipeline.predict(x_valid)\n",
    "\n",
    "print(\"Accuracy CatBoost:\", accuracy_score(y_valid, cat_predict))\n",
    "print(\"Report CatBoost:\\n\", classification_report(y_valid, cat_predict))"
   ]
  },
  {
   "cell_type": "code",
   "execution_count": 91,
   "id": "9277b737",
   "metadata": {},
   "outputs": [
    {
     "name": "stdout",
     "output_type": "stream",
     "text": [
      "Accuracy SVM: 0.7889591719378953\n",
      "Report SVM:\n",
      "               precision    recall  f1-score   support\n",
      "\n",
      "       False       0.85      0.69      0.76      1706\n",
      "        True       0.75      0.88      0.81      1772\n",
      "\n",
      "    accuracy                           0.79      3478\n",
      "   macro avg       0.80      0.79      0.79      3478\n",
      "weighted avg       0.80      0.79      0.79      3478\n",
      "\n"
     ]
    }
   ],
   "source": [
    "svm_pipeline = Pipeline(\n",
    "    steps=[\n",
    "        ('preprocessor', preprocessor),\n",
    "        ('model', SVC\n",
    "         (kernel='rbf',\n",
    "          C=1.0,\n",
    "          random_state=42)\n",
    "        )\n",
    "    ])\n",
    "\n",
    "svm_pipeline.fit(x_train, y_train)\n",
    "y_pred_svm = svm_pipeline.predict(x_valid)\n",
    "\n",
    "print(\"Accuracy SVM:\", accuracy_score(y_valid, y_pred_svm))\n",
    "print(\"Report SVM:\\n\", classification_report(y_valid, y_pred_svm))"
   ]
  },
  {
   "cell_type": "code",
   "execution_count": 92,
   "id": "1721ef3e",
   "metadata": {},
   "outputs": [
    {
     "data": {
      "image/png": "[encoded data removed]",
      "text/plain": [
       "<Figure size 1000x800 with 1 Axes>"
      ]
     },
     "metadata": {},
     "output_type": "display_data"
    }
   ],
   "source": [
    "param_grid = {\n",
    "    'model__iterations': [50, 100, 200,300,400],\n",
    "    'model__learning_rate': [0.02, 0.06, 0.1],\n",
    "    'model__depth': [4, 6, 8]\n",
    "}\n",
    "\n",
    "grid_search = GridSearchCV(cat_pipeline, param_grid, cv=5, scoring='accuracy')\n",
    "\n",
    "grid_search.fit(x_train, y_train)\n",
    "\n",
    "best_model = grid_search.best_estimator_.named_steps['model']\n",
    "\n",
    "# Get feature importances from the best model\n",
    "feature_importances = best_model.get_feature_importance()\n",
    "features = x_train.columns  # assuming X_train is a DataFrame with named columns\n",
    "\n",
    "# Plot the feature importances\n",
    "plt.figure(figsize=(10, 8))\n",
    "sns.barplot(x=feature_importances, y=features[1:])\n",
    "plt.title(\"Feature Importance from Best CatBoost Model\")\n",
    "plt.xlabel(\"Importance Score\")\n",
    "plt.ylabel(\"Features\")\n",
    "plt.show()"
   ]
  },
  {
   "cell_type": "code",
   "execution_count": 93,
   "id": "dc339655",
   "metadata": {},
   "outputs": [],
   "source": [
    "# cheking best model in test dataset"
   ]
  },
  {
   "cell_type": "code",
   "execution_count": 94,
   "id": "34c0bf0f",
   "metadata": {},
   "outputs": [
    {
     "name": "stdout",
     "output_type": "stream",
     "text": [
      "Accuracy in the test dataset XGB: 0.8121477050500403\n",
      "Report XGB:\n",
      "               precision    recall  f1-score   support\n",
      "\n",
      "       False       0.85      0.76      0.80      4315\n",
      "        True       0.78      0.87      0.82      4378\n",
      "\n",
      "    accuracy                           0.81      8693\n",
      "   macro avg       0.82      0.81      0.81      8693\n",
      "weighted avg       0.82      0.81      0.81      8693\n",
      "\n"
     ]
    }
   ],
   "source": [
    "xgb_pipeline.fit(X, y)\n",
    "predict_real = xgb_pipeline.predict(X)\n",
    "\n",
    "print(\"Accuracy in the test dataset XGB:\", accuracy_score(y, predict_real))\n",
    "print(\"Report XGB:\\n\", classification_report(y, predict_real))"
   ]
  },
  {
   "cell_type": "code",
   "execution_count": 95,
   "id": "561f139d",
   "metadata": {},
   "outputs": [
    {
     "name": "stdout",
     "output_type": "stream",
     "text": [
      "Accuracy in the test dataset CatBoost: 0.7965029333946854\n",
      "Report CatBoost:\n",
      "               precision    recall  f1-score   support\n",
      "\n",
      "       False       0.82      0.76      0.79      4315\n",
      "        True       0.78      0.83      0.80      4378\n",
      "\n",
      "    accuracy                           0.80      8693\n",
      "   macro avg       0.80      0.80      0.80      8693\n",
      "weighted avg       0.80      0.80      0.80      8693\n",
      "\n"
     ]
    }
   ],
   "source": [
    "cat_pipeline.fit(X, y)\n",
    "predict_real_cat = cat_pipeline.predict(X)\n",
    "\n",
    "print(\"Accuracy in the test dataset CatBoost:\", accuracy_score(y, predict_real_cat))\n",
    "print(\"Report CatBoost:\\n\", classification_report(y, predict_real_cat))"
   ]
  },
  {
   "cell_type": "code",
   "execution_count": 107,
   "id": "baccd5d6",
   "metadata": {},
   "outputs": [],
   "source": [
    "# on trainig set Catboot is giving the good accuracy but on test data it's worse as comared to the xgboost,\n",
    "# xgboost is giving slightly less accuuray as compared but working fine on test data \n",
    "# so considering xgboost"
   ]
  },
  {
   "cell_type": "code",
   "execution_count": 108,
   "id": "84728e5f",
   "metadata": {},
   "outputs": [],
   "source": [
    "results = xgb_pipeline.predict(df_test)\n",
    "\n",
    "submission = pd.DataFrame({\n",
    "    'PassengerId': df_test['PassengerId'],\n",
    "    'Transported': results.astype(bool)\n",
    "})\n",
    "\n",
    "submission.to_csv('submission.csv',index=False)"
   ]
  },
  {
   "cell_type": "code",
   "execution_count": 109,
   "id": "9e6445cc",
   "metadata": {},
   "outputs": [
    {
     "data": {
      "text/html": [
       "<div>\n",
       "<style scoped>\n",
       "    .dataframe tbody tr th:only-of-type {\n",
       "        vertical-align: middle;\n",
       "    }\n",
       "\n",
       "    .dataframe tbody tr th {\n",
       "        vertical-align: top;\n",
       "    }\n",
       "\n",
       "    .dataframe thead th {\n",
       "        text-align: right;\n",
       "    }\n",
       "</style>\n",
       "<table border=\"1\" class=\"dataframe\">\n",
       "  <thead>\n",
       "    <tr style=\"text-align: right;\">\n",
       "      <th></th>\n",
       "      <th>PassengerId</th>\n",
       "      <th>Transported</th>\n",
       "    </tr>\n",
       "  </thead>\n",
       "  <tbody>\n",
       "    <tr>\n",
       "      <th>0</th>\n",
       "      <td>0013_01</td>\n",
       "      <td>True</td>\n",
       "    </tr>\n",
       "    <tr>\n",
       "      <th>1</th>\n",
       "      <td>0018_01</td>\n",
       "      <td>False</td>\n",
       "    </tr>\n",
       "    <tr>\n",
       "      <th>2</th>\n",
       "      <td>0019_01</td>\n",
       "      <td>True</td>\n",
       "    </tr>\n",
       "    <tr>\n",
       "      <th>3</th>\n",
       "      <td>0021_01</td>\n",
       "      <td>True</td>\n",
       "    </tr>\n",
       "    <tr>\n",
       "      <th>4</th>\n",
       "      <td>0023_01</td>\n",
       "      <td>True</td>\n",
       "    </tr>\n",
       "    <tr>\n",
       "      <th>...</th>\n",
       "      <td>...</td>\n",
       "      <td>...</td>\n",
       "    </tr>\n",
       "    <tr>\n",
       "      <th>4272</th>\n",
       "      <td>9266_02</td>\n",
       "      <td>True</td>\n",
       "    </tr>\n",
       "    <tr>\n",
       "      <th>4273</th>\n",
       "      <td>9269_01</td>\n",
       "      <td>False</td>\n",
       "    </tr>\n",
       "    <tr>\n",
       "      <th>4274</th>\n",
       "      <td>9271_01</td>\n",
       "      <td>True</td>\n",
       "    </tr>\n",
       "    <tr>\n",
       "      <th>4275</th>\n",
       "      <td>9273_01</td>\n",
       "      <td>True</td>\n",
       "    </tr>\n",
       "    <tr>\n",
       "      <th>4276</th>\n",
       "      <td>9277_01</td>\n",
       "      <td>True</td>\n",
       "    </tr>\n",
       "  </tbody>\n",
       "</table>\n",
       "<p>4277 rows × 2 columns</p>\n",
       "</div>"
      ],
      "text/plain": [
       "     PassengerId  Transported\n",
       "0        0013_01         True\n",
       "1        0018_01        False\n",
       "2        0019_01         True\n",
       "3        0021_01         True\n",
       "4        0023_01         True\n",
       "...          ...          ...\n",
       "4272     9266_02         True\n",
       "4273     9269_01        False\n",
       "4274     9271_01         True\n",
       "4275     9273_01         True\n",
       "4276     9277_01         True\n",
       "\n",
       "[4277 rows x 2 columns]"
      ]
     },
     "execution_count": 109,
     "metadata": {},
     "output_type": "execute_result"
    }
   ],
   "source": [
    "submission"
   ]
  },
  {
   "cell_type": "code",
   "execution_count": null,
   "id": "600f4369",
   "metadata": {},
   "outputs": [],
   "source": []
  }
 ],
 "metadata": {
  "kernelspec": {
   "display_name": "Python 3 (ipykernel)",
   "language": "python",
   "name": "python3"
  },
  "language_info": {
   "codemirror_mode": {
    "name": "ipython",
    "version": 3
   },
   "file_extension": ".py",
   "mimetype": "text/x-python",
   "name": "python",
   "nbconvert_exporter": "python",
   "pygments_lexer": "ipython3",
   "version": "3.11.7"
  }
 },
 "nbformat": 4,
 "nbformat_minor": 5
}
